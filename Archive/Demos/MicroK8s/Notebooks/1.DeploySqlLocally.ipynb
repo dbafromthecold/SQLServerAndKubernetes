{
    "metadata": {
        "kernelspec": {
            "name": "powershell",
            "display_name": "PowerShell"
        },
        "language_info": {
            "name": "powershell",
            "codemirror_mode": "shell",
            "mimetype": "text/x-sh",
            "file_extension": ".ps1"
        }
    },
    "nbformat_minor": 2,
    "nbformat": 4,
    "cells": [
        {
            "cell_type": "markdown",
            "source": [
                "# Deploying SQL on a local k8s cluster"
            ],
            "metadata": {
                "azdata_cell_guid": "b5a09660-e26a-4ff2-8f3b-34e188b132ba"
            }
        },
        {
            "cell_type": "markdown",
            "source": [
                "## Get tags from Microsoft Container Registry"
            ],
            "metadata": {
                "azdata_cell_guid": "71aabbe4-ac66-42f5-8354-ef7bc0545cf1"
            }
        },
        {
            "cell_type": "code",
            "source": [
                "$repo1 = invoke-webrequest https://mcr.microsoft.com/v2/mssql/server/tags/list\n",
                "$repo2 = invoke-webrequest https://mcr.microsoft.com/v2/mssql/rhel/server/tags/list\n",
                "$tags = $repo1.content + $repo2.content\n",
                "$tags"
            ],
            "metadata": {
                "azdata_cell_guid": "20beaeaf-853b-47de-9a2b-e9030e2c285b"
            },
            "outputs": [],
            "execution_count": null
        },
        {
            "cell_type": "markdown",
            "source": [
                "## Check local images"
            ],
            "metadata": {
                "azdata_cell_guid": "58c7186c-7595-4363-b6ac-dacc3aa14c08"
            }
        },
        {
            "cell_type": "code",
            "source": [
                "docker images"
            ],
            "metadata": {
                "azdata_cell_guid": "3284b525-5f37-40eb-839d-49f9a22c2d8b"
            },
            "outputs": [],
            "execution_count": null
        },
        {
            "cell_type": "markdown",
            "source": [
                "## Switch kubectl to local cluster"
            ],
            "metadata": {
                "azdata_cell_guid": "357406e9-c0f0-4a99-b219-c7ccf4087986"
            }
        },
        {
            "cell_type": "code",
            "source": [
                "kubectl config use-context microk8s"
            ],
            "metadata": {
                "azdata_cell_guid": "46cf5508-754e-4fdd-8350-0e66773bad80"
            },
            "outputs": [],
            "execution_count": null
        },
        {
            "cell_type": "markdown",
            "source": [
                "## View nodes"
            ],
            "metadata": {
                "azdata_cell_guid": "6801626b-b5f3-48e2-9a67-e562bc34c88e"
            }
        },
        {
            "cell_type": "code",
            "source": [
                "kubectl get nodes"
            ],
            "metadata": {
                "azdata_cell_guid": "90f2c1b8-742d-4fc1-8f12-c866ff8f6ac7"
            },
            "outputs": [],
            "execution_count": null
        },
        {
            "cell_type": "markdown",
            "source": [
                "## Deploy SQL Server to cluster"
            ],
            "metadata": {
                "azdata_cell_guid": "d6537539-92e3-45a3-b87e-cb0f6f746b63"
            }
        },
        {
            "cell_type": "code",
            "source": [
                "kubectl run sqlserver `\n",
                "--image=mcr.microsoft.com/mssql/rhel/server:2019-CU1-rhel-8 `\n",
                "--env ACCEPT_EULA=Y --env SA_PASSWORD=Testing1122"
            ],
            "metadata": {
                "azdata_cell_guid": "1c56fb76-d0c9-4d34-a4bc-18a98b32ec79"
            },
            "outputs": [],
            "execution_count": null
        },
        {
            "cell_type": "markdown",
            "source": [
                "## View deployments"
            ],
            "metadata": {
                "azdata_cell_guid": "5cfe2488-d55d-49ab-82b0-23db02e9b348"
            }
        },
        {
            "cell_type": "code",
            "source": [
                "kubectl get deployments"
            ],
            "metadata": {
                "azdata_cell_guid": "99268124-7194-4c69-b694-a1d3524ffcbf"
            },
            "outputs": [],
            "execution_count": null
        },
        {
            "cell_type": "markdown",
            "source": [
                "## View pod"
            ],
            "metadata": {
                "azdata_cell_guid": "b91768b5-9ec1-4478-8a5d-de7f6743f5a9"
            }
        },
        {
            "cell_type": "code",
            "source": [
                "kubectl get pods"
            ],
            "metadata": {
                "azdata_cell_guid": "1dae20e5-69f7-49dd-81d2-f112ad8d094a"
            },
            "outputs": [],
            "execution_count": null
        },
        {
            "cell_type": "markdown",
            "source": [
                "## Connect to SQL Server in pod"
            ],
            "metadata": {
                "azdata_cell_guid": "0d6b32a1-f362-4599-86be-0ecaa699b615"
            }
        },
        {
            "cell_type": "code",
            "source": [
                "$PODNAME=$(kubectl get pods --no-headers -o custom-columns=\":metadata.name\")\n",
                "kubectl exec $PODNAME -- bash -c \"/opt/mssql-tools/bin/sqlcmd -S . -U sa -P Testing1122 -Q 'SELECT @@VERSION'\""
            ],
            "metadata": {
                "azdata_cell_guid": "f51d52e9-3c8c-4a3c-9d19-07fcad83703b"
            },
            "outputs": [],
            "execution_count": null
        },
        {
            "cell_type": "markdown",
            "source": [
                "## Expose service"
            ],
            "metadata": {
                "azdata_cell_guid": "78775219-8dee-418e-b7cb-c48793de1742"
            }
        },
        {
            "cell_type": "code",
            "source": [
                "kubectl expose deployment sqlserver --type=ClusterIP --port=1433 --target-port=1433"
            ],
            "metadata": {
                "azdata_cell_guid": "ec6fc065-0bc3-4024-8158-dd2fe6ece7a3"
            },
            "outputs": [],
            "execution_count": null
        },
        {
            "cell_type": "markdown",
            "source": [
                "## Get Service IP"
            ],
            "metadata": {
                "azdata_cell_guid": "3e7d4506-cd93-40a5-87ae-2b7e0636ec8c"
            }
        },
        {
            "cell_type": "code",
            "source": [
                "kubectl get services"
            ],
            "metadata": {
                "azdata_cell_guid": "d0febd67-60bd-4c5b-8074-69f8211d195b"
            },
            "outputs": [],
            "execution_count": null
        },
        {
            "cell_type": "markdown",
            "source": [
                "## Clean up"
            ],
            "metadata": {
                "azdata_cell_guid": "9114945d-3751-4ba6-a175-2dd35881d724"
            }
        },
        {
            "cell_type": "code",
            "source": [
                "kubectl delete deployment sqlserver\n",
                "kubectl delete service sqlserver"
            ],
            "metadata": {
                "azdata_cell_guid": "1a4bf225-c02d-4068-865d-256bdd158def"
            },
            "outputs": [],
            "execution_count": null
        }
    ]
}