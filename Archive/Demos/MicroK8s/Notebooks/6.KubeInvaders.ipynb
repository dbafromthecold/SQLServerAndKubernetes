{
    "metadata": {
        "kernelspec": {
            "name": "powershell",
            "display_name": "PowerShell"
        },
        "language_info": {
            "name": "powershell",
            "codemirror_mode": "shell",
            "mimetype": "text/x-sh",
            "file_extension": ".ps1"
        }
    },
    "nbformat_minor": 2,
    "nbformat": 4,
    "cells": [
        {
            "cell_type": "markdown",
            "source": [
                "# KubeInvaders"
            ],
            "metadata": {
                "azdata_cell_guid": "7ee3a008-cb17-4249-99fd-41b71d7e9a19"
            }
        },
        {
            "cell_type": "markdown",
            "source": [
                "## Switch context to remote cluster"
            ],
            "metadata": {
                "azdata_cell_guid": "c45cb3d5-93e6-4eb3-8fd7-778671bf87d8"
            }
        },
        {
            "cell_type": "code",
            "source": [
                "kubectl config use-context SQLK8sCluster2"
            ],
            "metadata": {
                "azdata_cell_guid": "5e85655d-0992-4044-879f-af352a32a051"
            },
            "outputs": [],
            "execution_count": null
        },
        {
            "cell_type": "markdown",
            "source": [
                "# Run pods"
            ],
            "metadata": {
                "azdata_cell_guid": "ede869dd-4232-4127-a622-444c3e3862ea"
            }
        },
        {
            "cell_type": "code",
            "source": [
                "kubectl run sqlserver `\n",
                "--image=mcr.microsoft.com/mssql/rhel/server:2019-CU1-rhel-8 `\n",
                "--replicas 10 `\n",
                "--env ACCEPT_EULA=Y --env SA_PASSWORD=Testing1122 `\n",
                "--namespace foobar"
            ],
            "metadata": {
                "azdata_cell_guid": "8fab1b15-f4e0-434b-a5ce-9c089978f0f4"
            },
            "outputs": [],
            "execution_count": null
        },
        {
            "cell_type": "markdown",
            "source": [
                "# Get pods"
            ],
            "metadata": {
                "azdata_cell_guid": "0e8977a6-9f6c-46b1-8aa6-1fe097664b52"
            }
        },
        {
            "cell_type": "code",
            "source": [
                "kubectl get pods -o wide -n foobar"
            ],
            "metadata": {
                "azdata_cell_guid": "4b9a7aa0-cf2c-445a-9391-28ae3e9f635e"
            },
            "outputs": [],
            "execution_count": null
        },
        {
            "cell_type": "markdown",
            "source": [
                "## Watch pods"
            ],
            "metadata": {
                "azdata_cell_guid": "6d6969ff-723d-4120-a321-66a90a5f643b"
            }
        },
        {
            "cell_type": "code",
            "source": [
                "kubectl get pods -n foobar --watch"
            ],
            "metadata": {
                "azdata_cell_guid": "83647964-eda0-4e3d-9e6e-cb313ef4c5d6"
            },
            "outputs": [],
            "execution_count": null
        },
        {
            "cell_type": "markdown",
            "source": [
                "## Clean up"
            ],
            "metadata": {
                "azdata_cell_guid": "f67968c6-467e-4bd5-8d42-a10592ee118f"
            }
        },
        {
            "cell_type": "code",
            "source": [
                "kubectl delete deployment sqlserver -n foobar"
            ],
            "metadata": {
                "azdata_cell_guid": "c231a7ea-1657-44ea-9497-cde13c7e24bb"
            },
            "outputs": [],
            "execution_count": null
        }
    ]
}