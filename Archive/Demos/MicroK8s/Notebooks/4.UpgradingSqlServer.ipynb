{
    "metadata": {
        "kernelspec": {
            "name": "powershell",
            "display_name": "PowerShell"
        },
        "language_info": {
            "codemirror_mode": "shell",
            "mimetype": "text/x-sh",
            "name": "powershell",
            "file_extension": ".ps1"
        }
    },
    "nbformat_minor": 2,
    "nbformat": 4,
    "cells": [
        {
            "cell_type": "markdown",
            "source": [
                "# Upgrading SQL Server in K8s"
            ],
            "metadata": {
                "azdata_cell_guid": "4c5fd1dc-bd6d-4fb5-9d0a-b218668689bc"
            }
        },
        {
            "cell_type": "markdown",
            "source": [
                "## Switch kubectl to local cluster"
            ],
            "metadata": {
                "azdata_cell_guid": "2b634b91-fba3-4c58-b94a-fb54a6165322"
            }
        },
        {
            "cell_type": "code",
            "source": [
                "kubectl config use-context microk8s"
            ],
            "metadata": {
                "azdata_cell_guid": "f42c77ef-2639-4228-a03d-aca08ddf574c"
            },
            "outputs": [],
            "execution_count": 0
        },
        {
            "cell_type": "markdown",
            "source": [
                "## Navigate to yaml location"
            ],
            "metadata": {
                "azdata_cell_guid": "016c9857-b951-452d-970e-a5e49643c68e"
            }
        },
        {
            "cell_type": "code",
            "source": [
                "cd ~/git/SQLServerAndKubernetes/Demos/MicroK8s/Yaml"
            ],
            "metadata": {
                "azdata_cell_guid": "f26067b2-09e6-46fc-b6ea-9fbfacbc9da2",
                "tags": []
            },
            "outputs": [],
            "execution_count": 0
        },
        {
            "cell_type": "markdown",
            "source": [
                "## Deploy SQL Server"
            ],
            "metadata": {
                "azdata_cell_guid": "483b3c27-33ec-467c-a9d5-aa738c5d793f"
            }
        },
        {
            "cell_type": "code",
            "source": [
                "kubectl apply -f sqlserver_olderversion_microK8s.yaml"
            ],
            "metadata": {
                "azdata_cell_guid": "231edc32-5846-4537-b7d5-12b01bee7f20"
            },
            "outputs": [],
            "execution_count": 0
        },
        {
            "cell_type": "markdown",
            "source": [
                "## View deployments"
            ],
            "metadata": {
                "azdata_cell_guid": "6373bb8b-711d-46b1-b208-d915d7a48e36"
            }
        },
        {
            "cell_type": "code",
            "source": [
                "kubectl get deployment"
            ],
            "metadata": {
                "azdata_cell_guid": "49cadcdd-6b63-4c7e-8f4d-184db952b32f"
            },
            "outputs": [],
            "execution_count": 0
        },
        {
            "cell_type": "markdown",
            "source": [
                "## View pods"
            ],
            "metadata": {
                "azdata_cell_guid": "ddb8fc7c-469d-4889-a925-e0f1e14fb27e"
            }
        },
        {
            "cell_type": "code",
            "source": [
                "kubectl get pods"
            ],
            "metadata": {
                "azdata_cell_guid": "72fc0836-9c7e-4336-9544-e5b4cbc145a7"
            },
            "outputs": [],
            "execution_count": 0
        },
        {
            "cell_type": "markdown",
            "source": [
                "# View service"
            ],
            "metadata": {
                "azdata_cell_guid": "95f5358f-ba7b-46f7-a803-e76dec36f9a6"
            }
        },
        {
            "cell_type": "code",
            "source": [
                "kubectl get service"
            ],
            "metadata": {
                "azdata_cell_guid": "e26bb75d-a998-4296-9bc2-90d3274d0e1a"
            },
            "outputs": [],
            "execution_count": 0
        },
        {
            "cell_type": "markdown",
            "source": [
                "## Upgrade SQL Server"
            ],
            "metadata": {
                "azdata_cell_guid": "bba1f558-cc01-47c2-9cd8-4665ea103946"
            }
        },
        {
            "cell_type": "code",
            "source": [
                "kubectl apply -f sqlserver_microK8s.yaml"
            ],
            "metadata": {
                "azdata_cell_guid": "c880bf9d-d30e-4adb-9a88-da6281536dd4"
            },
            "outputs": [],
            "execution_count": 0
        },
        {
            "cell_type": "markdown",
            "source": [
                "## View deployment"
            ],
            "metadata": {
                "azdata_cell_guid": "37d3aaba-6729-4ee1-9647-aecdb1e3d2fa"
            }
        },
        {
            "cell_type": "code",
            "source": [
                "kubectl get deployments"
            ],
            "metadata": {
                "azdata_cell_guid": "c8c1a54f-945d-4562-aa21-380829a93861"
            },
            "outputs": [],
            "execution_count": 0
        },
        {
            "cell_type": "markdown",
            "source": [
                "## View deployment history"
            ],
            "metadata": {
                "azdata_cell_guid": "e6307bce-a2b0-4206-98df-41206e0d22e1"
            }
        },
        {
            "cell_type": "code",
            "source": [
                "kubectl rollout history deployment sqlserver"
            ],
            "metadata": {
                "azdata_cell_guid": "b1da5666-0281-4e36-b85a-b4b6571137f7"
            },
            "outputs": [],
            "execution_count": 0
        },
        {
            "cell_type": "markdown",
            "source": [
                "## Rollback"
            ],
            "metadata": {
                "azdata_cell_guid": "b30ede3f-59fb-4964-8a6b-68c638020a1e"
            }
        },
        {
            "cell_type": "code",
            "source": [
                "kubectl rollout undo deployment sqlserver"
            ],
            "metadata": {
                "azdata_cell_guid": "92418de4-0008-45f1-988b-4926479f4e46"
            },
            "outputs": [],
            "execution_count": 0
        },
        {
            "cell_type": "markdown",
            "source": [
                "## View deployment"
            ],
            "metadata": {
                "azdata_cell_guid": "46ab3055-22f7-40e9-84ca-8266c81a137f"
            }
        },
        {
            "cell_type": "code",
            "source": [
                "kubectl get deployments"
            ],
            "metadata": {
                "azdata_cell_guid": "a4b0829d-5b19-44fb-bd90-b9ba2391fe87"
            },
            "outputs": [],
            "execution_count": 0
        },
        {
            "cell_type": "markdown",
            "source": [
                "## Clean up"
            ],
            "metadata": {
                "azdata_cell_guid": "4da4fe43-8a92-4dd7-9d6a-1a7639c7c3bf"
            }
        },
        {
            "cell_type": "code",
            "source": [
                "kubectl delete deployment sqlserver\n",
                "kubectl delete service sqlserver-service"
            ],
            "metadata": {
                "azdata_cell_guid": "e552c9c7-8331-47a7-a7d3-d87c6f811da5"
            },
            "outputs": [],
            "execution_count": 0
        }
    ]
}