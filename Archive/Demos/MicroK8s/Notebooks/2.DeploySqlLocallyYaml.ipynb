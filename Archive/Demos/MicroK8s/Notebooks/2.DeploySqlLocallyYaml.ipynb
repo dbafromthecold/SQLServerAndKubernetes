{
    "metadata": {
        "kernelspec": {
            "name": "powershell",
            "display_name": "PowerShell"
        },
        "language_info": {
            "file_extension": ".ps1",
            "codemirror_mode": "shell",
            "name": "powershell",
            "mimetype": "text/x-sh"
        }
    },
    "nbformat_minor": 2,
    "nbformat": 4,
    "cells": [
        {
            "cell_type": "markdown",
            "source": [
                "# Using yaml files to deploy to local k8s cluster"
            ],
            "metadata": {
                "azdata_cell_guid": "ef32befc-77b9-45fa-afe4-a16a6c8df4d1"
            }
        },
        {
            "cell_type": "markdown",
            "source": [
                "## Switch kubectl to local cluster"
            ],
            "metadata": {
                "azdata_cell_guid": "7372c2d4-8bcd-4820-a3b3-00c741e67fe8"
            }
        },
        {
            "cell_type": "code",
            "source": [
                "kubectl config use-context microk8s"
            ],
            "metadata": {
                "azdata_cell_guid": "3fd4bd67-e3b2-4f49-ae8c-07be19ee8dbe"
            },
            "outputs": [],
            "execution_count": 0
        },
        {
            "cell_type": "markdown",
            "source": [
                "## Navigate to yaml location"
            ],
            "metadata": {
                "azdata_cell_guid": "d08395d5-6d98-474f-96c1-a082681971c0"
            }
        },
        {
            "cell_type": "code",
            "source": [
                "cd ~/git/SQLServerAndKubernetes/Demos/MicroK8s/Yaml"
            ],
            "metadata": {
                "azdata_cell_guid": "cfd20b6e-f7b4-4282-845e-51f2db97ffc9"
            },
            "outputs": [],
            "execution_count": 1
        },
        {
            "cell_type": "markdown",
            "source": [
                "## View sql yaml file"
            ],
            "metadata": {
                "azdata_cell_guid": "a0219c91-a59c-4b3e-96c1-34fea4d8b5d6"
            }
        },
        {
            "cell_type": "code",
            "source": [
                "cat sqlserver_microK8s.yaml"
            ],
            "metadata": {
                "azdata_cell_guid": "090ab972-28e1-4668-9d6d-ca24ece7b2a9"
            },
            "outputs": [],
            "execution_count": 0
        },
        {
            "cell_type": "markdown",
            "source": [
                "## Deploy to cluster"
            ],
            "metadata": {
                "azdata_cell_guid": "9470d044-2734-4802-af12-f32ae12d84fe"
            }
        },
        {
            "cell_type": "code",
            "source": [
                "kubectl apply -f sqlserver_microK8s.yaml"
            ],
            "metadata": {
                "azdata_cell_guid": "69ed3914-f942-415d-b495-1871f823dfb3"
            },
            "outputs": [],
            "execution_count": 3
        },
        {
            "cell_type": "markdown",
            "source": [
                "## View deployment"
            ],
            "metadata": {
                "azdata_cell_guid": "a2b9cbbe-a1d1-4846-a9f2-ebc97a3f2291"
            }
        },
        {
            "cell_type": "code",
            "source": [
                "kubectl get deployments"
            ],
            "metadata": {
                "azdata_cell_guid": "5c3064bd-b8b7-4a3d-9a66-aafedc26c26e"
            },
            "outputs": [],
            "execution_count": 0
        },
        {
            "cell_type": "markdown",
            "source": [
                "## View pods"
            ],
            "metadata": {
                "azdata_cell_guid": "3bfcb2f1-acd7-4536-abc8-44cf18e2cfcd"
            }
        },
        {
            "cell_type": "code",
            "source": [
                "kubectl get pods"
            ],
            "metadata": {
                "azdata_cell_guid": "70738046-a6e5-4e25-87bc-e457cc7f19f5"
            },
            "outputs": [],
            "execution_count": 0
        },
        {
            "cell_type": "markdown",
            "source": [
                "## Get more info on pods"
            ],
            "metadata": {
                "azdata_cell_guid": "504c4750-5690-4ac6-9da3-ffb8b55cb4c4"
            }
        },
        {
            "cell_type": "code",
            "source": [
                "kubectl get pods -o wide"
            ],
            "metadata": {
                "azdata_cell_guid": "3af101c9-78d4-4e96-9fc1-d1fb7b995743"
            },
            "outputs": [],
            "execution_count": 0
        },
        {
            "cell_type": "markdown",
            "source": [
                "## Describe pods"
            ],
            "metadata": {
                "azdata_cell_guid": "ab183d5e-f232-45f5-b766-1f32088c5f8f"
            }
        },
        {
            "cell_type": "code",
            "source": [
                "kubectl describe pods"
            ],
            "metadata": {
                "azdata_cell_guid": "a28d8717-c98a-4856-855d-91ad7a607ba0"
            },
            "outputs": [],
            "execution_count": 0
        },
        {
            "cell_type": "markdown",
            "source": [
                "## View service"
            ],
            "metadata": {
                "azdata_cell_guid": "fc8cac96-b59e-4b98-ab32-e4ff16a710df"
            }
        },
        {
            "cell_type": "code",
            "source": [
                "kubectl get service"
            ],
            "metadata": {
                "azdata_cell_guid": "de32e366-61c2-4e9c-8ed2-10e8b10f3ad2"
            },
            "outputs": [],
            "execution_count": 0
        },
        {
            "cell_type": "markdown",
            "source": [
                "## Get pod IP address"
            ],
            "metadata": {
                "azdata_cell_guid": "2d1743d4-535c-458b-b90b-f3527c9dcf9e"
            }
        },
        {
            "cell_type": "code",
            "source": [
                "kubectl get pods -o wide"
            ],
            "metadata": {
                "azdata_cell_guid": "ddea58f1-34e6-45c4-b6cd-18f7f14b77b9"
            },
            "outputs": [],
            "execution_count": 0
        },
        {
            "cell_type": "markdown",
            "source": [
                "## Delete pod"
            ],
            "metadata": {
                "azdata_cell_guid": "c96d543e-9948-4817-a571-8a763b0f524f"
            }
        },
        {
            "cell_type": "code",
            "source": [
                "$PODNAME=$(kubectl get pods --no-headers -o custom-columns=\":metadata.name\")\n",
                "kubectl delete pod $PODNAME"
            ],
            "metadata": {
                "azdata_cell_guid": "66a64028-3680-46ae-a92a-d46228ab442c"
            },
            "outputs": [],
            "execution_count": 0
        },
        {
            "cell_type": "markdown",
            "source": [
                "## View new pod IP"
            ],
            "metadata": {
                "azdata_cell_guid": "8e55ee90-a474-4005-a01f-41b6f3b75478"
            }
        },
        {
            "cell_type": "code",
            "source": [
                "kubectl get pods -o wide"
            ],
            "metadata": {
                "azdata_cell_guid": "1f1a9793-0e7e-4b69-85a2-cf5600e9e1f0"
            },
            "outputs": [],
            "execution_count": 0
        },
        {
            "cell_type": "markdown",
            "source": [
                "## Confirm service IP has not changed"
            ],
            "metadata": {
                "azdata_cell_guid": "ceef6c59-9ab2-4ffa-bcf5-c5ba00b7583c"
            }
        },
        {
            "cell_type": "code",
            "source": [
                "kubectl get service"
            ],
            "metadata": {
                "azdata_cell_guid": "3785ac16-c084-4e8c-9864-ceaba821fcb1"
            },
            "outputs": [],
            "execution_count": 0
        },
        {
            "cell_type": "markdown",
            "source": [
                "## Clean up"
            ],
            "metadata": {
                "azdata_cell_guid": "9b1d7bb1-120c-47c3-98ff-ca38354e9764"
            }
        },
        {
            "cell_type": "code",
            "source": [
                "kubectl delete deployment sqlserver\n",
                "kubectl delete service sqlserver-service"
            ],
            "metadata": {
                "azdata_cell_guid": "7c5747b1-96d4-4953-983a-999f3199e141"
            },
            "outputs": [],
            "execution_count": 0
        }
    ]
}