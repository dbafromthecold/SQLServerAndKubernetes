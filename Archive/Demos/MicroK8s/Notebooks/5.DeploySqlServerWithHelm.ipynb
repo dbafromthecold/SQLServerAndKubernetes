{
    "metadata": {
        "kernelspec": {
            "name": "powershell",
            "display_name": "PowerShell"
        },
        "language_info": {
            "name": "powershell",
            "codemirror_mode": "shell",
            "mimetype": "text/x-sh",
            "file_extension": ".ps1"
        }
    },
    "nbformat_minor": 2,
    "nbformat": 4,
    "cells": [
        {
            "cell_type": "markdown",
            "source": [
                "# Deploy SQL Server using Helm"
            ],
            "metadata": {
                "azdata_cell_guid": "aba485e1-c4a6-4701-b8d2-49c268b899df"
            }
        },
        {
            "cell_type": "markdown",
            "source": [
                "## Switch context to remote cluster"
            ],
            "metadata": {
                "azdata_cell_guid": "2852efb8-cf89-4d67-b6d3-ea51537a0417"
            }
        },
        {
            "cell_type": "code",
            "source": [
                "kubectl config use-context microk8s"
            ],
            "metadata": {
                "azdata_cell_guid": "3c1405ea-ad12-401f-a3a3-e646c116044f"
            },
            "outputs": [],
            "execution_count": null
        },
        {
            "cell_type": "markdown",
            "source": [
                "## Confirm Helm version"
            ],
            "metadata": {
                "azdata_cell_guid": "0385ee84-68f1-404f-8293-748e3e72e73e"
            }
        },
        {
            "cell_type": "code",
            "source": [
                "helm version"
            ],
            "metadata": {
                "azdata_cell_guid": "8d9971b4-1123-4cf9-a34d-8c0d7eed4256"
            },
            "outputs": [],
            "execution_count": null
        },
        {
            "cell_type": "markdown",
            "source": [
                "## Search for SQL Server Helm chart in hub"
            ],
            "metadata": {
                "azdata_cell_guid": "2038994c-ff55-4338-841a-05c6759f522b"
            }
        },
        {
            "cell_type": "code",
            "source": [
                "helm search repo stable/mssql-linux"
            ],
            "metadata": {
                "azdata_cell_guid": "c66f8de5-52ba-4a56-9289-5e83fd803e46"
            },
            "outputs": [],
            "execution_count": null
        },
        {
            "cell_type": "markdown",
            "source": [
                "## Perform chart deployment dry run"
            ],
            "metadata": {
                "azdata_cell_guid": "205bd473-cae0-4fb9-b399-f76f0d3c070f"
            }
        },
        {
            "cell_type": "code",
            "source": [
                "helm install sqlserver stable/mssql-linux --dry-run --debug"
            ],
            "metadata": {
                "azdata_cell_guid": "99b05598-c1ad-480f-82fc-815a0e7071b2"
            },
            "outputs": [],
            "execution_count": null
        },
        {
            "cell_type": "markdown",
            "source": [
                "## List Helm repos"
            ],
            "metadata": {
                "azdata_cell_guid": "28ffb5d4-b391-412b-aed2-def65a9b49c1"
            }
        },
        {
            "cell_type": "code",
            "source": [
                "helm repo list"
            ],
            "metadata": {
                "azdata_cell_guid": "65d77bbb-38f7-42ad-81d6-24c2096cbafb"
            },
            "outputs": [],
            "execution_count": null
        },
        {
            "cell_type": "markdown",
            "source": [
                "## Search for chart in private repo"
            ],
            "metadata": {
                "azdata_cell_guid": "ac627bec-8a71-487e-b85e-9d5252c482f4"
            }
        },
        {
            "cell_type": "code",
            "source": [
                "helm search repo dbafromthecold/sqlserver2019cu1"
            ],
            "metadata": {
                "azdata_cell_guid": "a9522854-aaf2-47ab-a8a1-1d0222ef8d03"
            },
            "outputs": [],
            "execution_count": null
        },
        {
            "cell_type": "markdown",
            "source": [
                "## Perform chart deployment from private repo dry run"
            ],
            "metadata": {
                "azdata_cell_guid": "ccdb05dd-bbf0-4dce-81d8-19b2d777f302"
            }
        },
        {
            "cell_type": "code",
            "source": [
                "helm install sqlserver2019 dbafromthecold/sqlserver2019cu1 --version 0.1.0 --dry-run --debug"
            ],
            "metadata": {
                "azdata_cell_guid": "9aac42c4-6ad0-4012-ac6d-71784a1933d8"
            },
            "outputs": [],
            "execution_count": null
        },
        {
            "cell_type": "markdown",
            "source": [
                "## Deploy chart to cluster"
            ],
            "metadata": {
                "azdata_cell_guid": "7b0808ae-0583-4d91-9a50-86a8a5aeef73"
            }
        },
        {
            "cell_type": "code",
            "source": [
                "helm install sqlserver2019 dbafromthecold/sqlserver2019cu1 --version 0.1.0"
            ],
            "metadata": {
                "azdata_cell_guid": "543f49ec-3cc8-4e9e-ad99-d48f70defc9a"
            },
            "outputs": [],
            "execution_count": null
        },
        {
            "cell_type": "markdown",
            "source": [
                "## Confirm deployment"
            ],
            "metadata": {
                "azdata_cell_guid": "e87b23ad-512d-49b2-a293-446614450d5b"
            }
        },
        {
            "cell_type": "code",
            "source": [
                "helm list"
            ],
            "metadata": {
                "azdata_cell_guid": "1a69b5bc-c2f3-400f-8017-9ad6fd2908a9"
            },
            "outputs": [],
            "execution_count": null
        },
        {
            "cell_type": "markdown",
            "source": [
                "## View deployment, pod, and service"
            ],
            "metadata": {
                "azdata_cell_guid": "01e924aa-5994-417d-9847-b67c68fc0196"
            }
        },
        {
            "cell_type": "code",
            "source": [
                "kubectl get deployments\n",
                "\n",
                "\n",
                "kubectl get pods\n",
                "\n",
                "\n",
                "kubectl get services"
            ],
            "metadata": {
                "azdata_cell_guid": "1ab35ba2-b76e-4564-b646-4e3ee2bcca73"
            },
            "outputs": [],
            "execution_count": null
        },
        {
            "cell_type": "markdown",
            "source": [
                "## Describe service"
            ],
            "metadata": {
                "azdata_cell_guid": "8a34640b-47a2-4311-9552-2efef33d8ffd"
            }
        },
        {
            "cell_type": "code",
            "source": [
                "kubectl describe service sqlserver2019"
            ],
            "metadata": {
                "azdata_cell_guid": "9c4492dc-2d83-49d9-bb60-1211eff6fbd8"
            },
            "outputs": [],
            "execution_count": null
        },
        {
            "cell_type": "markdown",
            "source": [
                "## Clean up"
            ],
            "metadata": {
                "azdata_cell_guid": "e5c157fb-1407-490e-a0c1-e13ec7768c79"
            }
        },
        {
            "cell_type": "code",
            "source": [
                "helm delete sqlserver2019"
            ],
            "metadata": {
                "azdata_cell_guid": "62fd1acf-a8d4-4d39-a136-df99983c455f"
            },
            "outputs": [],
            "execution_count": null
        }
    ]
}