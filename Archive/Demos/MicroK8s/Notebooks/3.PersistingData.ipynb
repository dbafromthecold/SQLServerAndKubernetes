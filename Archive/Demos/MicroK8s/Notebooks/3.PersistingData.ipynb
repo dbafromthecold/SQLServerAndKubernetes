{
    "metadata": {
        "kernelspec": {
            "name": "powershell",
            "display_name": "PowerShell"
        },
        "language_info": {
            "name": "powershell",
            "codemirror_mode": "shell",
            "mimetype": "text/x-sh",
            "file_extension": ".ps1"
        }
    },
    "nbformat_minor": 2,
    "nbformat": 4,
    "cells": [
        {
            "cell_type": "markdown",
            "source": [
                "# Persisting data for SQL Server in K8s"
            ],
            "metadata": {
                "azdata_cell_guid": "ca383485-87fc-4ddf-9142-30f10a5d8476"
            }
        },
        {
            "cell_type": "markdown",
            "source": [
                "## Switch kubectl to local cluster"
            ],
            "metadata": {
                "azdata_cell_guid": "047a00b5-114f-4f6f-8710-6969c2b7f550"
            }
        },
        {
            "cell_type": "code",
            "source": [
                "kubectl config use-context microk8s"
            ],
            "metadata": {
                "azdata_cell_guid": "981cd792-3261-4765-806f-c3199fbee94f"
            },
            "outputs": [],
            "execution_count": null
        },
        {
            "cell_type": "markdown",
            "source": [
                "## Navigate to yaml location"
            ],
            "metadata": {
                "azdata_cell_guid": "868a2d95-c3c1-4ce0-8459-dbe05051e171"
            }
        },
        {
            "cell_type": "code",
            "source": [
                "cd ~/git/SQLServerAndKubernetes/Demos/MicroK8s/Yaml"
            ],
            "metadata": {
                "azdata_cell_guid": "570383e2-9e70-4c4a-8700-3dee271190fa"
            },
            "outputs": [],
            "execution_count": null
        },
        {
            "cell_type": "markdown",
            "source": [
                "## View storage class yaml"
            ],
            "metadata": {
                "azdata_cell_guid": "dbaad64b-70e8-411b-8e2f-0a6bc7d67a57"
            }
        },
        {
            "cell_type": "code",
            "source": [
                "cat storageclass_microK8s.yaml"
            ],
            "metadata": {
                "azdata_cell_guid": "d27479e3-0c2e-46cb-8b2d-10f0d4bf6e05"
            },
            "outputs": [],
            "execution_count": null
        },
        {
            "cell_type": "markdown",
            "source": [
                "## Create storage class"
            ],
            "metadata": {
                "azdata_cell_guid": "352ee527-941e-429e-9e67-27ebfe0f8cc5"
            }
        },
        {
            "cell_type": "code",
            "source": [
                "kubectl apply -f storageclass_microK8s.yaml"
            ],
            "metadata": {
                "azdata_cell_guid": "e90dd4f6-2bd0-47be-9edb-fea2f3d2c7b3"
            },
            "outputs": [],
            "execution_count": null
        },
        {
            "cell_type": "markdown",
            "source": [
                "## View storage class"
            ],
            "metadata": {
                "azdata_cell_guid": "ea15d0ac-a72e-4c08-82e5-714fd52d5abe"
            }
        },
        {
            "cell_type": "code",
            "source": [
                "kubectl get sc"
            ],
            "metadata": {
                "azdata_cell_guid": "3834227b-3c14-4e10-a536-91127f2929a5"
            },
            "outputs": [],
            "execution_count": null
        },
        {
            "cell_type": "markdown",
            "source": [
                "## View persistent volume claim yaml"
            ],
            "metadata": {
                "azdata_cell_guid": "7461edc0-e9a5-40d5-aa68-79c3acad9551"
            }
        },
        {
            "cell_type": "code",
            "source": [
                "cat persistentvolumeclaim_microK8s.yaml"
            ],
            "metadata": {
                "azdata_cell_guid": "e3a34b18-b9f9-4913-bfb1-bb25e83fd554"
            },
            "outputs": [],
            "execution_count": null
        },
        {
            "cell_type": "markdown",
            "source": [
                "## Create persistent volume claim"
            ],
            "metadata": {
                "azdata_cell_guid": "de74411a-98c3-4579-aee8-c7568a821029"
            }
        },
        {
            "cell_type": "code",
            "source": [
                "kubectl apply -f persistentvolumeclaim_microK8s.yaml"
            ],
            "metadata": {
                "azdata_cell_guid": "b91ed4f4-562e-44b9-91a2-12eee2ddc08d"
            },
            "outputs": [],
            "execution_count": null
        },
        {
            "cell_type": "markdown",
            "source": [
                "## View persistent volume claim"
            ],
            "metadata": {
                "azdata_cell_guid": "bb6db8df-455e-4327-b4cf-59de8b84e654"
            }
        },
        {
            "cell_type": "code",
            "source": [
                "kubectl get pvc"
            ],
            "metadata": {
                "azdata_cell_guid": "7490951a-3f77-4a5b-8316-dd0d25f47f3f"
            },
            "outputs": [],
            "execution_count": null
        },
        {
            "cell_type": "markdown",
            "source": [
                "## View persistent volume"
            ],
            "metadata": {
                "azdata_cell_guid": "bd4e662b-f7cf-4b16-a940-29e2b11e0d2d"
            }
        },
        {
            "cell_type": "code",
            "source": [
                "kubectl get pv"
            ],
            "metadata": {
                "azdata_cell_guid": "0b51357b-5654-4260-9aac-3f06a160d3f2"
            },
            "outputs": [],
            "execution_count": null
        },
        {
            "cell_type": "markdown",
            "source": [
                "## Create secret"
            ],
            "metadata": {
                "azdata_cell_guid": "5ebd6a1e-d134-4d92-9ea7-c595e1ccd13a"
            }
        },
        {
            "cell_type": "code",
            "source": [
                "kubectl create secret generic mssql --from-literal=SA_PASSWORD=\"Testing1122\""
            ],
            "metadata": {
                "azdata_cell_guid": "b5b02027-4d8d-4efc-ab57-7954c418ccb8"
            },
            "outputs": [],
            "execution_count": null
        },
        {
            "cell_type": "markdown",
            "source": [
                "## View secret"
            ],
            "metadata": {
                "azdata_cell_guid": "aeb6ce37-710c-4f52-afed-d6b60f6da6b0"
            }
        },
        {
            "cell_type": "code",
            "source": [
                "kubectl get secret\n",
                "\n",
                "\n",
                "kubectl describe secret mssql"
            ],
            "metadata": {
                "azdata_cell_guid": "2d409443-246b-450e-a700-1ef943bb46b8"
            },
            "outputs": [],
            "execution_count": null
        },
        {
            "cell_type": "markdown",
            "source": [
                "## Deploy SQL Server"
            ],
            "metadata": {
                "azdata_cell_guid": "5d08c479-89b9-4d05-b440-c0688c28da5f"
            }
        },
        {
            "cell_type": "code",
            "source": [
                "kubectl apply -f sqlserver_persistentvolume_microK8s.yaml"
            ],
            "metadata": {
                "azdata_cell_guid": "49807a87-d762-4798-8d14-a8ef72d72230"
            },
            "outputs": [],
            "execution_count": null
        },
        {
            "cell_type": "markdown",
            "source": [
                "## View deployments"
            ],
            "metadata": {
                "azdata_cell_guid": "ed12727a-b315-46c2-bf66-db6ad519480c"
            }
        },
        {
            "cell_type": "code",
            "source": [
                "kubectl get deployments"
            ],
            "metadata": {
                "azdata_cell_guid": "cf18d7cc-637c-409f-be7b-ada0e002cf28"
            },
            "outputs": [],
            "execution_count": null
        },
        {
            "cell_type": "markdown",
            "source": [
                "## View pods"
            ],
            "metadata": {
                "azdata_cell_guid": "aa89ce52-c6c0-4a22-bde7-2b1e2ea4f66f"
            }
        },
        {
            "cell_type": "code",
            "source": [
                "kubectl get pods"
            ],
            "metadata": {
                "azdata_cell_guid": "5d19268e-b015-4281-a787-029908c34a84"
            },
            "outputs": [],
            "execution_count": null
        },
        {
            "cell_type": "markdown",
            "source": [
                "## View service"
            ],
            "metadata": {
                "azdata_cell_guid": "2dad8e9e-f2ce-445f-94e7-e5536d8f8759"
            }
        },
        {
            "cell_type": "code",
            "source": [
                "kubectl get service"
            ],
            "metadata": {
                "azdata_cell_guid": "040d1648-39c9-41a5-b0a2-fb8a7a699165"
            },
            "outputs": [],
            "execution_count": null
        },
        {
            "cell_type": "markdown",
            "source": [
                "## Get more info on pods"
            ],
            "metadata": {
                "azdata_cell_guid": "709deea7-ae17-4a95-acb0-da19c5e5dabf"
            }
        },
        {
            "cell_type": "code",
            "source": [
                "kubectl get pods -o wide"
            ],
            "metadata": {
                "azdata_cell_guid": "2ab0f186-2fcd-4c04-b72c-4462f29c458e"
            },
            "outputs": [],
            "execution_count": null
        },
        {
            "cell_type": "markdown",
            "source": [
                "## Delete pod"
            ],
            "metadata": {
                "azdata_cell_guid": "eb019bc8-374c-46eb-814d-326baf62bb2c"
            }
        },
        {
            "cell_type": "code",
            "source": [
                "$PODNAME=$(kubectl get pods --no-headers -o custom-columns=\":metadata.name\")\n",
                "kubectl delete pod $PODNAME"
            ],
            "metadata": {
                "azdata_cell_guid": "956598a8-de39-41e3-8eb5-d49e95bc5d43"
            },
            "outputs": [],
            "execution_count": null
        },
        {
            "cell_type": "markdown",
            "source": [
                "## View new pod IP"
            ],
            "metadata": {
                "azdata_cell_guid": "d73b97e4-17dd-4323-8fbd-bd8c534c11a3"
            }
        },
        {
            "cell_type": "code",
            "source": [
                "kubectl get pods -o wide"
            ],
            "metadata": {
                "azdata_cell_guid": "e35cba56-ed79-4193-a49e-6629c98b6270"
            },
            "outputs": [],
            "execution_count": null
        },
        {
            "cell_type": "markdown",
            "source": [
                "## Confirm PVC, PV, and service"
            ],
            "metadata": {
                "azdata_cell_guid": "53cfe398-e807-4094-9ad1-5ebe5649e410"
            }
        },
        {
            "cell_type": "code",
            "source": [
                "kubectl get pvc\n",
                "\n",
                "\n",
                "kubectl get pv\n",
                "\n",
                "\n",
                "kubectl get service"
            ],
            "metadata": {
                "azdata_cell_guid": "fa275e55-8b72-417b-8dcb-98f87d15210f"
            },
            "outputs": [],
            "execution_count": null
        },
        {
            "cell_type": "markdown",
            "source": [
                "## Clean up"
            ],
            "metadata": {
                "azdata_cell_guid": "f847c858-25f0-4b82-8301-4037d4a7c600"
            }
        },
        {
            "cell_type": "code",
            "source": [
                "kubectl delete deployment sqlserver\n",
                "kubectl delete service sqlserver-service\n",
                "kubectl delete secret mssql\n",
                "kubectl delete pvc mssql-data\n",
                "kubectl delete sc test-sc"
            ],
            "metadata": {
                "azdata_cell_guid": "5fee23fd-e757-4af5-92ee-7f7703902692"
            },
            "outputs": [],
            "execution_count": null
        }
    ]
}