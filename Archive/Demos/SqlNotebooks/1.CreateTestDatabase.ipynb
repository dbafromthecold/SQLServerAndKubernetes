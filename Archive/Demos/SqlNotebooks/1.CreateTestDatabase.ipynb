{
    "metadata": {
        "kernelspec": {
            "name": "SQL",
            "display_name": "SQL",
            "language": "sql"
        },
        "language_info": {
            "name": "sql",
            "version": ""
        }
    },
    "nbformat_minor": 2,
    "nbformat": 4,
    "cells": [
        {
            "cell_type": "markdown",
            "source": "# Confirm SQL version",
            "metadata": {}
        },
        {
            "cell_type": "code",
            "source": "SELECT @@VERSION;\nGO",
            "metadata": {},
            "outputs": [],
            "execution_count": 1
        },
        {
            "cell_type": "markdown",
            "source": "# Create test database",
            "metadata": {}
        },
        {
            "cell_type": "code",
            "source": "CREATE DATABASE [testdatabase];\nGO",
            "metadata": {},
            "outputs": [],
            "execution_count": 2
        },
        {
            "cell_type": "markdown",
            "source": "# Confirm location of database files",
            "metadata": {}
        },
        {
            "cell_type": "code",
            "source": "USE [testdatabase];\nGO\n\nEXEC sp_helpfile;\nGO",
            "metadata": {},
            "outputs": [],
            "execution_count": 3
        },
        {
            "cell_type": "markdown",
            "source": "# Create test table and insert 200 rows",
            "metadata": {}
        },
        {
            "cell_type": "code",
            "source": "USE [testdatabase];\nGO\n\nCREATE TABLE dbo.testtable(ID INT);\n\nINSERT INTO dbo.testtable(ID) SELECT TOP 200 1 FROM sys.all_columns;\n\nSELECT COUNT(*) FROM dbo.testtable;\nGO",
            "metadata": {},
            "outputs": [],
            "execution_count": 4
        }
    ]
}}